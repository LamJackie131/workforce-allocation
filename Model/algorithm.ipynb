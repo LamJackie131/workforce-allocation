{
 "cells": [
  {
   "cell_type": "code",
   "execution_count": 1,
   "metadata": {},
   "outputs": [
    {
     "name": "stdout",
     "output_type": "stream",
     "text": [
      "Requirement already satisfied: pulp in /Users/lamjackie/miniconda3/envs/ych-wf-allocation/lib/python3.10/site-packages (2.9.0)\n"
     ]
    }
   ],
   "source": [
    "!pip install pulp"
   ]
  },
  {
   "cell_type": "code",
   "execution_count": 2,
   "metadata": {},
   "outputs": [],
   "source": [
    "import pandas as pd\n",
    "import numpy as np\n",
    "import pulp\n",
    "import os\n",
    "os.getcwd()\n",
    "os.chdir(\"..\")"
   ]
  },
  {
   "cell_type": "markdown",
   "metadata": {},
   "source": [
    "# Process data"
   ]
  },
  {
   "cell_type": "code",
   "execution_count": 3,
   "metadata": {},
   "outputs": [],
   "source": [
    "raw_workmode = pd.read_excel('InputData.xlsx', sheet_name=\"Mode\")\n",
    "raw_demand = pd.read_excel('InputData.xlsx', sheet_name=\"Demand\")\n",
    "workmode = {(row['Mode'].item(), row['Shift'].item()): row['Capa'].item() for _, row in raw_workmode.iterrows()}\n",
    "demand = {(row['Week'].item(), row['Wday'].item()): row['Demand'].item() for _, row in raw_demand.iterrows()}"
   ]
  },
  {
   "cell_type": "code",
   "execution_count": 4,
   "metadata": {},
   "outputs": [],
   "source": [
    "WeekIndex = [1,2,3,4]\n",
    "WeekDayIndex = [1,2,3,4,5,6,7]\n",
    "ShiftIndex = [1,2,3]"
   ]
  },
  {
   "cell_type": "code",
   "execution_count": 5,
   "metadata": {},
   "outputs": [],
   "source": [
    "numS = 22\n",
    "numC = 12\n",
    "FC = {(i, j): row['Hours'].item()*8.3 for i in [1, 2] for j in ShiftIndex for _, row in raw_workmode.iterrows()}\n"
   ]
  },
  {
   "cell_type": "code",
   "execution_count": null,
   "metadata": {},
   "outputs": [],
   "source": []
  },
  {
   "cell_type": "markdown",
   "metadata": {},
   "source": [
    "# Algorithm"
   ]
  },
  {
   "cell_type": "code",
   "execution_count": 6,
   "metadata": {},
   "outputs": [
    {
     "data": {
      "text/plain": [
       "7182"
      ]
     },
     "execution_count": 6,
     "metadata": {},
     "output_type": "execute_result"
    }
   ],
   "source": [
    "workmode[1, 1]"
   ]
  },
  {
   "cell_type": "code",
   "execution_count": 7,
   "metadata": {},
   "outputs": [
    {
     "data": {
      "text/plain": [
       "7857"
      ]
     },
     "execution_count": 7,
     "metadata": {},
     "output_type": "execute_result"
    }
   ],
   "source": [
    "demand[1, 1]"
   ]
  },
  {
   "cell_type": "code",
   "execution_count": 8,
   "metadata": {},
   "outputs": [
    {
     "data": {
      "text/plain": [
       "1"
      ]
     },
     "execution_count": 8,
     "metadata": {},
     "output_type": "execute_result"
    }
   ],
   "source": [
    "m_conso_sample = {1: {1: {1: 1,\n",
    "   2: 0,\n",
    "   3: 1,\n",
    "   4: 0,\n",
    "   5: 0,\n",
    "   6: 1,\n",
    "   7: 1}}}\n",
    "\n",
    "m_conso_sample[1][1][1]"
   ]
  },
  {
   "cell_type": "code",
   "execution_count": 9,
   "metadata": {},
   "outputs": [
    {
     "data": {
      "text/plain": [
       "27896"
      ]
     },
     "execution_count": 9,
     "metadata": {},
     "output_type": "execute_result"
    }
   ],
   "source": [
    "sum(m_conso_sample[1][1][1]*workmode[1, sh] for sh in ShiftIndex)"
   ]
  },
  {
   "cell_type": "code",
   "execution_count": 10,
   "metadata": {},
   "outputs": [
    {
     "name": "stdout",
     "output_type": "stream",
     "text": [
      "Welcome to the CBC MILP Solver \n",
      "Version: 2.10.3 \n",
      "Build Date: Dec 15 2019 \n",
      "\n",
      "command line - /Users/lamjackie/miniconda3/envs/ych-wf-allocation/lib/python3.10/site-packages/pulp/solverdir/cbc/osx/64/cbc /var/folders/4v/qgjl0ptd02j55mwtql93llqr0000gn/T/e6279f6f54f14869991d775395b4c663-pulp.mps -ratio 1e-05 -timeMode elapsed -branch -printingOptions all -solution /var/folders/4v/qgjl0ptd02j55mwtql93llqr0000gn/T/e6279f6f54f14869991d775395b4c663-pulp.sol (default strategy 1)\n",
      "At line 2 NAME          MODEL\n",
      "At line 3 ROWS\n",
      "At line 129 COLUMNS\n",
      "At line 1090 RHS\n",
      "At line 1215 BOUNDS\n",
      "At line 1384 ENDATA\n",
      "Problem MODEL has 124 rows, 168 columns and 456 elements\n",
      "Coin0008I MODEL read with 0 errors\n",
      "ratioGap was changed from 0 to 1e-05\n",
      "Option for timeMode changed from cpu to elapsed\n",
      "Continuous objective value is 18927.3 - 0.00 seconds\n",
      "Cgl0003I 0 fixed, 21 tightened bounds, 0 strengthened rows, 0 substitutions\n",
      "Cgl0004I processed model has 124 rows, 147 columns (147 integer (147 of which binary)) and 414 elements\n",
      "Cutoff increment increased from 1e-05 to 199.2\n",
      "Cbc0038I Initial state - 0 integers unsatisfied sum - 0\n",
      "Cbc0038I Solution found of 33465.6\n",
      "Cbc0038I Before mini branch and bound, 147 integers at bound fixed and 0 continuous\n",
      "Cbc0038I Mini branch and bound did not improve solution (0.00 seconds)\n",
      "Cbc0038I After 0.00 seconds - Feasibility pump exiting with objective of 33465.6 - took 0.00 seconds\n",
      "Cbc0012I Integer solution of 33465.6 found by feasibility pump after 0 iterations and 0 nodes (0.00 seconds)\n",
      "Cbc0001I Search completed - best objective 33465.60000000001, took 0 iterations and 0 nodes (0.00 seconds)\n",
      "Cbc0035I Maximum depth 0, 0 variables fixed on reduced cost\n",
      "Cuts at root node changed objective from 33465.6 to 33465.6\n",
      "Probing was tried 0 times and created 0 cuts of which 0 were active after adding rounds of cuts (0.000 seconds)\n",
      "Gomory was tried 0 times and created 0 cuts of which 0 were active after adding rounds of cuts (0.000 seconds)\n",
      "Knapsack was tried 0 times and created 0 cuts of which 0 were active after adding rounds of cuts (0.000 seconds)\n",
      "Clique was tried 0 times and created 0 cuts of which 0 were active after adding rounds of cuts (0.000 seconds)\n",
      "MixedIntegerRounding2 was tried 0 times and created 0 cuts of which 0 were active after adding rounds of cuts (0.000 seconds)\n",
      "FlowCover was tried 0 times and created 0 cuts of which 0 were active after adding rounds of cuts (0.000 seconds)\n",
      "TwoMirCuts was tried 0 times and created 0 cuts of which 0 were active after adding rounds of cuts (0.000 seconds)\n",
      "ZeroHalf was tried 0 times and created 0 cuts of which 0 were active after adding rounds of cuts (0.000 seconds)\n",
      "\n",
      "Result - Optimal solution found\n",
      "\n",
      "Objective value:                33465.60000000\n",
      "Enumerated nodes:               0\n",
      "Total iterations:               0\n",
      "Time (CPU seconds):             0.00\n",
      "Time (Wallclock seconds):       0.01\n",
      "\n",
      "Option for printingOptions changed from normal to all\n",
      "Total time (CPU seconds):       0.01   (Wallclock seconds):       0.01\n",
      "\n"
     ]
    }
   ],
   "source": [
    "# Create the model\n",
    "model = pulp.LpProblem(\"3PL_Workforce_Allocation\", pulp.LpMinimize)\n",
    "\n",
    "# Define binary decision variables x (3D) and y (2D)\n",
    "m_conso = pulp.LpVariable.dicts(\"m_conso\", (ShiftIndex, WeekIndex, WeekDayIndex), cat='Binary')\n",
    "m_sepa = pulp.LpVariable.dicts(\"m_sepa\", (ShiftIndex, WeekIndex, WeekDayIndex), cat='Binary')\n",
    "\n",
    "# Objective function: \n",
    "model += pulp.lpSum(numC*FC[1, sh] * m_conso[sh][w][d] for sh in ShiftIndex for w in WeekIndex for d in WeekDayIndex) + \\\n",
    "         pulp.lpSum(numS*FC[2, sh] * m_sepa[sh][w][d] for sh in ShiftIndex for w in WeekIndex for d in WeekDayIndex)\n",
    "\n",
    "# Constraint\n",
    "## Can't work 3 consecutive days\n",
    "for w in WeekIndex:\n",
    "    for d in range(1, len(WeekDayIndex) - 1):\n",
    "        model += pulp.lpSum(m_conso[3][w][d+t] for t in [0,1,2]) <= 2\n",
    "for w in WeekIndex:\n",
    "    for d in range(1, len(WeekDayIndex) - 1):\n",
    "        model += pulp.lpSum(m_sepa[3][w][d+t] for t in [0,1,2]) <= 2\n",
    "\n",
    "## Can't use the same mode within a week\n",
    "# for w in WeekIndex:\n",
    "#     model += pulp.lpSum(m_sepa[sh][w][d] for sh in ShiftIndex for d in WeekDayIndex) <= 7\n",
    "# for w in WeekIndex:\n",
    "#     model += pulp.lpSum(m_conso[sh][w][d] for sh in ShiftIndex for d in WeekDayIndex) <= 7\n",
    "# for w in WeekIndex:\n",
    "#     model += pulp.lpSum(m_sepa[sh][w][d] for sh in ShiftIndex for d in WeekDayIndex) + pulp.lpSum(m_conso[sh][w][d] for sh in ShiftIndex for d in WeekDayIndex) >= 7\n",
    "\n",
    "# Satisfy demand\n",
    "for w in WeekIndex:\n",
    "    for d in WeekDayIndex:\n",
    "        model += pulp.lpSum(m_sepa[sh][w][d]*workmode[1, sh] for sh in ShiftIndex) + pulp.lpSum(m_conso[sh][w][d]*workmode[2, sh] for sh in ShiftIndex) >= demand[w, d]\n",
    "\n",
    "# One shift only\n",
    "for w in WeekIndex:\n",
    "    for d in WeekDayIndex:\n",
    "        model += pulp.lpSum(m_sepa[sh][w][d] for sh in ShiftIndex) <= 1\n",
    "for w in WeekIndex:\n",
    "    for d in WeekDayIndex:\n",
    "        model += pulp.lpSum(m_conso[sh][w][d] for sh in ShiftIndex) <= 1\n",
    "        \n",
    "\n",
    "# Solve the problem using COIN_CMD without the tol argument\n",
    "solver = pulp.PULP_CBC_CMD(gapRel=0.00001)  # Built-in solver\n",
    "model.solve(solver)\n",
    "\n",
    "# Collect the results into a list of dictionaries for x_ijk (3D)\n",
    "results_conso = []\n",
    "for sh in ShiftIndex:\n",
    "    for w in WeekIndex:\n",
    "        for d in WeekDayIndex:\n",
    "            results_conso.append({\n",
    "                'shift': sh,\n",
    "                'week': w,\n",
    "                'wday': d,\n",
    "                'choose': m_conso[sh][w][d].varValue\n",
    "            })\n",
    "\n",
    "# Collect the results into a list of dictionaries for y_ij (2D)\n",
    "results_sepa = []\n",
    "for sh in ShiftIndex:\n",
    "    for w in WeekIndex:\n",
    "        for d in WeekDayIndex:\n",
    "            results_sepa.append({\n",
    "                'shift': sh,\n",
    "                'week': w,\n",
    "                'wday': d,\n",
    "                'choose': m_sepa[sh][w][d].varValue\n",
    "            })"
   ]
  },
  {
   "cell_type": "code",
   "execution_count": 11,
   "metadata": {},
   "outputs": [],
   "source": [
    "df_results_conso=pd.DataFrame(results_conso)\n",
    "df_results_conso['mode'] = \"c\"\n",
    "df_results_sepa = pd.DataFrame(results_sepa)\n",
    "df_results_sepa['mode'] = \"s\"\n",
    "result = pd.concat([df_results_sepa, df_results_conso])\n",
    "result_pivot=pd.DataFrame(result.pivot_table(index=[\"mode\", \"shift\"], columns=[\"week\", \"wday\"], values=[\"choose\"], aggfunc=\"sum\").reset_index(drop=False))"
   ]
  },
  {
   "cell_type": "code",
   "execution_count": 12,
   "metadata": {},
   "outputs": [],
   "source": [
    "with pd.ExcelWriter(\"result.xlsx\") as writer:\n",
    "   \n",
    "    # use to_excel function and specify the sheet_name and index \n",
    "    # to store the dataframe in specified sheet\n",
    "    result_pivot.to_excel(writer, sheet_name=\"Pivot\")\n",
    "    result.to_excel(writer, sheet_name=\"Results\", index=False)\n",
    "    raw_workmode.to_excel(writer, sheet_name=\"Workforce\", index=False)\n",
    "    raw_demand.to_excel(writer, sheet_name=\"Demand\", index=False)"
   ]
  }
 ],
 "metadata": {
  "kernelspec": {
   "display_name": "Python 3",
   "language": "python",
   "name": "python3"
  },
  "language_info": {
   "codemirror_mode": {
    "name": "ipython",
    "version": 3
   },
   "file_extension": ".py",
   "mimetype": "text/x-python",
   "name": "python",
   "nbconvert_exporter": "python",
   "pygments_lexer": "ipython3",
   "version": "3.10.15"
  }
 },
 "nbformat": 4,
 "nbformat_minor": 2
}
