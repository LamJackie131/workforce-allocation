{
 "cells": [
  {
   "cell_type": "code",
   "execution_count": 1,
   "metadata": {},
   "outputs": [],
   "source": [
    "import pandas as pd\n",
    "import numpy as np\n",
    "import pulp\n",
    "import os\n",
    "os.getcwd()\n",
    "os.chdir(\"..\")"
   ]
  },
  {
   "cell_type": "markdown",
   "metadata": {},
   "source": [
    "# Process data"
   ]
  },
  {
   "cell_type": "code",
   "execution_count": 2,
   "metadata": {},
   "outputs": [],
   "source": [
    "raw_workmode = pd.read_excel('InputData.xlsx', sheet_name=\"Mode\")\n",
    "raw_demand = pd.read_excel('InputData.xlsx', sheet_name=\"DemandV2\") # ver2\n",
    "workmode = {(row['Mode'].item(), row['Shift'].item()): row['Capa'].item() for _, row in raw_workmode.iterrows()}\n",
    "demand = {row['Week'].item(): row['Demand'].item() for _, row in raw_demand.iterrows()} # ver2"
   ]
  },
  {
   "cell_type": "code",
   "execution_count": 3,
   "metadata": {},
   "outputs": [],
   "source": [
    "WeekIndex = raw_demand.Week.tolist()\n",
    "ShiftIndex = [1,2,3]\n",
    "bigM = 99999"
   ]
  },
  {
   "cell_type": "code",
   "execution_count": 4,
   "metadata": {},
   "outputs": [
    {
     "data": {
      "text/html": [
       "<div>\n",
       "<style scoped>\n",
       "    .dataframe tbody tr th:only-of-type {\n",
       "        vertical-align: middle;\n",
       "    }\n",
       "\n",
       "    .dataframe tbody tr th {\n",
       "        vertical-align: top;\n",
       "    }\n",
       "\n",
       "    .dataframe thead th {\n",
       "        text-align: right;\n",
       "    }\n",
       "</style>\n",
       "<table border=\"1\" class=\"dataframe\">\n",
       "  <thead>\n",
       "    <tr style=\"text-align: right;\">\n",
       "      <th></th>\n",
       "      <th>Mode</th>\n",
       "      <th>Shift</th>\n",
       "      <th>Capa</th>\n",
       "      <th>Hours</th>\n",
       "    </tr>\n",
       "  </thead>\n",
       "  <tbody>\n",
       "    <tr>\n",
       "      <th>0</th>\n",
       "      <td>1</td>\n",
       "      <td>1</td>\n",
       "      <td>7182</td>\n",
       "      <td>8</td>\n",
       "    </tr>\n",
       "    <tr>\n",
       "      <th>1</th>\n",
       "      <td>1</td>\n",
       "      <td>2</td>\n",
       "      <td>9453</td>\n",
       "      <td>10</td>\n",
       "    </tr>\n",
       "    <tr>\n",
       "      <th>2</th>\n",
       "      <td>1</td>\n",
       "      <td>3</td>\n",
       "      <td>11261</td>\n",
       "      <td>12</td>\n",
       "    </tr>\n",
       "    <tr>\n",
       "      <th>3</th>\n",
       "      <td>2</td>\n",
       "      <td>1</td>\n",
       "      <td>11271</td>\n",
       "      <td>8</td>\n",
       "    </tr>\n",
       "    <tr>\n",
       "      <th>4</th>\n",
       "      <td>2</td>\n",
       "      <td>2</td>\n",
       "      <td>13923</td>\n",
       "      <td>10</td>\n",
       "    </tr>\n",
       "    <tr>\n",
       "      <th>5</th>\n",
       "      <td>2</td>\n",
       "      <td>3</td>\n",
       "      <td>16576</td>\n",
       "      <td>12</td>\n",
       "    </tr>\n",
       "  </tbody>\n",
       "</table>\n",
       "</div>"
      ],
      "text/plain": [
       "   Mode  Shift   Capa  Hours\n",
       "0     1      1   7182      8\n",
       "1     1      2   9453     10\n",
       "2     1      3  11261     12\n",
       "3     2      1  11271      8\n",
       "4     2      2  13923     10\n",
       "5     2      3  16576     12"
      ]
     },
     "execution_count": 4,
     "metadata": {},
     "output_type": "execute_result"
    }
   ],
   "source": [
    "raw_workmode"
   ]
  },
  {
   "cell_type": "code",
   "execution_count": 5,
   "metadata": {},
   "outputs": [],
   "source": [
    "numS = 22\n",
    "numC = 12\n",
    "FC = {\n",
    "    (i, j): raw_workmode.loc[(raw_workmode['Mode'] == i) & (raw_workmode['Shift'] == j), 'Hours'].item() * (\n",
    "        8.3 * 1.5 * 12 if (j in [2, 3] and i == 1) else\n",
    "        8.3 * 1.5 * 17 if (j in [2, 3] and i == 2) else\n",
    "        8.3 * 12 if (j in [1] and i == 1) else\n",
    "        8.3 * 17 if (j in [1] and i == 2) else\n",
    "        0)\n",
    "    for i in [1, 2]\n",
    "    for j in ShiftIndex\n",
    "    if not raw_workmode.loc[(raw_workmode['Mode'] == i) & (raw_workmode['Shift'] == j), 'Hours'].empty}"
   ]
  },
  {
   "cell_type": "markdown",
   "metadata": {},
   "source": [
    "# Algorithm"
   ]
  },
  {
   "cell_type": "code",
   "execution_count": 19,
   "metadata": {},
   "outputs": [
    {
     "name": "stdout",
     "output_type": "stream",
     "text": [
      "Welcome to the CBC MILP Solver \n",
      "Version: 2.10.3 \n",
      "Build Date: Dec 15 2019 \n",
      "\n",
      "command line - /Users/lamjackie/miniconda3/envs/ych-wf-allocation/lib/python3.10/site-packages/pulp/solverdir/cbc/osx/64/cbc /var/folders/4v/qgjl0ptd02j55mwtql93llqr0000gn/T/350ec4a9ee55470ea39ff23954387a47-pulp.mps -ratio 1e-05 -timeMode elapsed -branch -printingOptions all -solution /var/folders/4v/qgjl0ptd02j55mwtql93llqr0000gn/T/350ec4a9ee55470ea39ff23954387a47-pulp.sol (default strategy 1)\n",
      "At line 2 NAME          MODEL\n",
      "At line 3 ROWS\n",
      "At line 37 COLUMNS\n",
      "At line 342 RHS\n",
      "At line 375 BOUNDS\n",
      "At line 424 ENDATA\n",
      "Problem MODEL has 32 rows, 48 columns and 160 elements\n",
      "Coin0008I MODEL read with 0 errors\n",
      "ratioGap was changed from 0 to 1e-05\n",
      "Option for timeMode changed from cpu to elapsed\n",
      "Continuous objective value is 1.03471e+06 - 0.00 seconds\n",
      "Cgl0004I processed model has 24 rows, 48 columns (48 integer (0 of which binary)) and 112 elements\n",
      "Cutoff increment increased from 1e-05 to 16.5999\n",
      "Cbc0012I Integer solution of 1096280.6 found by DiveCoefficient after 0 iterations and 0 nodes (0.01 seconds)\n",
      "Cbc0038I Full problem 24 rows 48 columns, reduced to 12 rows 12 columns\n",
      "Cbc0012I Integer solution of 1061918.6 found by DiveCoefficient after 15 iterations and 0 nodes (0.01 seconds)\n",
      "Cbc0031I 12 added rows had average density of 6\n",
      "Cbc0013I At root node, 12 cuts changed objective from 1034710.3 to 1061918.6 in 4 passes\n",
      "Cbc0014I Cut generator 0 (Probing) - 0 row cuts average 0.0 elements, 0 column cuts (0 active)  in 0.000 seconds - new frequency is -100\n",
      "Cbc0014I Cut generator 1 (Gomory) - 14 row cuts average 6.0 elements, 0 column cuts (0 active)  in 0.000 seconds - new frequency is 1\n",
      "Cbc0014I Cut generator 2 (Knapsack) - 0 row cuts average 0.0 elements, 0 column cuts (0 active)  in 0.000 seconds - new frequency is -100\n",
      "Cbc0014I Cut generator 3 (Clique) - 0 row cuts average 0.0 elements, 0 column cuts (0 active)  in 0.000 seconds - new frequency is -100\n",
      "Cbc0014I Cut generator 4 (MixedIntegerRounding2) - 3 row cuts average 6.0 elements, 0 column cuts (0 active)  in 0.000 seconds - new frequency is 1\n",
      "Cbc0014I Cut generator 5 (FlowCover) - 0 row cuts average 0.0 elements, 0 column cuts (0 active)  in 0.000 seconds - new frequency is -100\n",
      "Cbc0014I Cut generator 6 (TwoMirCuts) - 28 row cuts average 6.0 elements, 0 column cuts (0 active)  in 0.001 seconds - new frequency is 1\n",
      "Cbc0001I Search completed - best objective 1061918.6, took 15 iterations and 0 nodes (0.01 seconds)\n",
      "Cbc0035I Maximum depth 0, 2 variables fixed on reduced cost\n",
      "Cuts at root node changed objective from 1.03471e+06 to 1.06192e+06\n",
      "Probing was tried 4 times and created 0 cuts of which 0 were active after adding rounds of cuts (0.000 seconds)\n",
      "Gomory was tried 4 times and created 14 cuts of which 0 were active after adding rounds of cuts (0.000 seconds)\n",
      "Knapsack was tried 4 times and created 0 cuts of which 0 were active after adding rounds of cuts (0.000 seconds)\n",
      "Clique was tried 4 times and created 0 cuts of which 0 were active after adding rounds of cuts (0.000 seconds)\n",
      "MixedIntegerRounding2 was tried 4 times and created 3 cuts of which 0 were active after adding rounds of cuts (0.000 seconds)\n",
      "FlowCover was tried 4 times and created 0 cuts of which 0 were active after adding rounds of cuts (0.000 seconds)\n",
      "TwoMirCuts was tried 4 times and created 28 cuts of which 0 were active after adding rounds of cuts (0.001 seconds)\n",
      "ZeroHalf was tried 1 times and created 0 cuts of which 0 were active after adding rounds of cuts (0.000 seconds)\n",
      "\n",
      "Result - Optimal solution found\n",
      "\n",
      "Objective value:                1061918.60000000\n",
      "Enumerated nodes:               0\n",
      "Total iterations:               15\n",
      "Time (CPU seconds):             0.01\n",
      "Time (Wallclock seconds):       0.01\n",
      "\n",
      "Option for printingOptions changed from normal to all\n",
      "Total time (CPU seconds):       0.01   (Wallclock seconds):       0.01\n",
      "\n"
     ]
    }
   ],
   "source": [
    "# Create the model\n",
    "model = pulp.LpProblem(\"3PL_Workforce_Allocation\", pulp.LpMinimize)\n",
    "\n",
    "# Define binary decision variables x (3D) and y (2D)\n",
    "m_conso = pulp.LpVariable.dicts(\"m_conso\", (ShiftIndex, WeekIndex), lowBound=0, cat='Integer')\n",
    "m_sepa = pulp.LpVariable.dicts(\"m_sepa\", (ShiftIndex, WeekIndex), lowBound=0, cat='Integer')\n",
    "# total_shifts = pulp.LpVariable.dicts(\"total_shifts\", WeekIndex, cat='Integer')\n",
    "x = pulp.LpVariable.dicts(\"x\", WeekIndex, cat='Binary')\n",
    "# delta_conso = pulp.LpVariable.dicts(\"delta_conso\", (ShiftIndex, WeekIndex), lowBound=0, upBound=1, cat='Integer')\n",
    "# delta_sepa = pulp.LpVariable.dicts(\"delta_sepa\", (ShiftIndex, WeekIndex), lowBound=0, upBound=1, cat='Integer')\n",
    "\n",
    "# Objective function: \n",
    "model += pulp.lpSum(numC*FC[1, sh] * m_conso[sh][w] for sh in ShiftIndex for w in WeekIndex) + \\\n",
    "         pulp.lpSum(numS*FC[2, sh] * m_sepa[sh][w] for sh in ShiftIndex for w in WeekIndex)\n",
    "\n",
    "# Constraint\n",
    "\n",
    "# Can't work more than 3 shifts 3 per week\n",
    "for w in WeekIndex:\n",
    "    model += m_conso[3][w] + m_sepa[3][w] <= 3\n",
    "\n",
    "# Satisfy demand ver 2\n",
    "for w in WeekIndex:\n",
    "    model += pulp.lpSum(workmode[1, sh]*m_conso[sh][w] for sh in ShiftIndex) + pulp.lpSum(workmode[2, sh]*m_sepa[sh][w] for sh in ShiftIndex) >= demand[w]\n",
    "\n",
    "# Min 5 days a week\n",
    "for w in WeekIndex:\n",
    "    model += pulp.lpSum(m_conso[sh][w] for sh in ShiftIndex) + pulp.lpSum(m_sepa[sh][w] for sh in ShiftIndex) >= 5\n",
    "\n",
    "# Max 7 days a week\n",
    "for w in WeekIndex:\n",
    "    model += pulp.lpSum(m_conso[sh][w] for sh in ShiftIndex) + pulp.lpSum(m_sepa[sh][w] for sh in ShiftIndex) <= 7\n",
    "\n",
    "# If sum = 7, then apply 2 times wages\n",
    "## If the total of m_conso and m_sepa is 7, activate x[w]\n",
    "for w in WeekIndex:\n",
    "    total_shifts = pulp.lpSum(m_conso[sh][w] + m_sepa[sh][w] for sh in ShiftIndex)\n",
    "    if total_shifts == 7:\n",
    "        x[w] = 1\n",
    "    else:\n",
    "        x[w] = 0\n",
    "    # model += total_shifts - 7 <= bigM * (1 - x[w])\n",
    "    # model += total_shifts - 7 >= -bigM * (1 - x[w])\n",
    "\n",
    "# ## If x[w] is 1, then either m_conso or m_sepa must increase by exactly 1\n",
    "# for w in WeekIndex:\n",
    "#     model += pulp.lpSum(delta_conso[sh][w] for sh in ShiftIndex) + pulp.lpSum(delta_sepa[sh][w] for sh in ShiftIndex) == x[w]\n",
    "\n",
    "# ## Only add to available mode\n",
    "# for w in WeekIndex:\n",
    "#     for sh in ShiftIndex:\n",
    "#         model += m_conso[sh][w] >= delta_conso[sh][w] \n",
    "# for w in WeekIndex:\n",
    "#     for sh in ShiftIndex:\n",
    "#         model += m_sepa[sh][w] >= delta_sepa[sh][w]\n",
    "\n",
    "# # If z[w] is 0, then delta_conso and delta_sepa must both be 0 for all shifts\n",
    "# for w in WeekIndex:\n",
    "#     for sh in ShiftIndex:\n",
    "#         model += delta_conso[sh][w] <= x[w]\n",
    "#         model += delta_sepa[sh][w] <= x[w]\n",
    "\n",
    "# Solve the problem using COIN_CMD without the tol argument\n",
    "solver = pulp.PULP_CBC_CMD(gapRel=0.00001)  # Built-in solver\n",
    "model.solve(solver)\n",
    "\n",
    "# Collect the results into a list of dictionaries for x_ijk (3D)\n",
    "results_conso = []\n",
    "for sh in ShiftIndex:\n",
    "    for w in WeekIndex:\n",
    "        results_conso.append({\n",
    "            'shift': sh,\n",
    "            'week': w,\n",
    "            'choose': m_conso[sh][w].varValue\n",
    "        })\n",
    "\n",
    "# res_delta_conso = []\n",
    "# for sh in ShiftIndex:\n",
    "#     for w in WeekIndex:\n",
    "#         res_delta_conso.append({\n",
    "#                 'shift': sh,\n",
    "#                 'week': w,\n",
    "#                 'choose': delta_conso[sh][w].varValue\n",
    "#             })\n",
    "\n",
    "# Collect the results into a list of dictionaries for y_ij (2D)\n",
    "results_sepa = []\n",
    "for sh in ShiftIndex:\n",
    "    for w in WeekIndex:\n",
    "        results_sepa.append({\n",
    "            'shift': sh,\n",
    "            'week': w,\n",
    "            'choose': m_sepa[sh][w].varValue\n",
    "        })\n",
    "\n",
    "# res_delta_sepa = []\n",
    "# for sh in ShiftIndex:\n",
    "#     for w in WeekIndex:\n",
    "#         res_delta_sepa.append({\n",
    "#                 'shift': sh,\n",
    "#                 'week': w,\n",
    "#                 'choose': delta_sepa[sh][w].varValue\n",
    "#             })"
   ]
  },
  {
   "cell_type": "code",
   "execution_count": 20,
   "metadata": {},
   "outputs": [
    {
     "name": "stdout",
     "output_type": "stream",
     "text": [
      "Total shifts for week 1: 7.0\n",
      "Total shifts for week 2: 7.0\n",
      "Total shifts for week 3: 7.0\n",
      "Total shifts for week 4: 7.0\n",
      "Total shifts for week 5: 7.0\n",
      "Total shifts for week 6: 7.0\n",
      "Total shifts for week 7: 7.0\n",
      "Total shifts for week 8: 5.0\n"
     ]
    }
   ],
   "source": [
    "# Calculate and print total shifts for each week\n",
    "for w in WeekIndex:\n",
    "    total_shifts_value = sum(m_conso[sh][w].varValue + m_sepa[sh][w].varValue for sh in ShiftIndex)\n",
    "    print(f\"Total shifts for week {w}: {total_shifts_value}\")\n",
    "\n"
   ]
  },
  {
   "cell_type": "code",
   "execution_count": 21,
   "metadata": {},
   "outputs": [
    {
     "name": "stdout",
     "output_type": "stream",
     "text": [
      "1\n",
      "1\n",
      "1\n",
      "1\n",
      "1\n",
      "1\n",
      "1\n",
      "1\n"
     ]
    }
   ],
   "source": [
    "for w in WeekIndex:\n",
    "    print(x[w])"
   ]
  },
  {
   "cell_type": "code",
   "execution_count": null,
   "metadata": {},
   "outputs": [],
   "source": [
    "df_results_conso=pd.DataFrame(results_conso)\n",
    "df_results_conso['mode'] = \"c\"\n",
    "df_results_sepa = pd.DataFrame(results_sepa)\n",
    "df_results_sepa['mode'] = \"s\"\n",
    "result = pd.concat([df_results_sepa, df_results_conso])\n",
    "result_pivot=pd.DataFrame(result.pivot_table(index=[\"mode\", \"shift\"], columns=[\"week\"], values=[\"choose\"], aggfunc=\"sum\").reset_index(drop=False))\n",
    "result_pivot"
   ]
  },
  {
   "cell_type": "code",
   "execution_count": null,
   "metadata": {},
   "outputs": [],
   "source": [
    "workmode"
   ]
  },
  {
   "cell_type": "code",
   "execution_count": null,
   "metadata": {},
   "outputs": [],
   "source": [
    "raw_demand"
   ]
  },
  {
   "cell_type": "code",
   "execution_count": 9,
   "metadata": {},
   "outputs": [],
   "source": [
    "with pd.ExcelWriter(\"result_v2.xlsx\") as writer:\n",
    "   \n",
    "    # use to_excel function and specify the sheet_name and index \n",
    "    # to store the dataframe in specified sheet\n",
    "    result_pivot.to_excel(writer, sheet_name=\"Pivot\")\n",
    "    result.to_excel(writer, sheet_name=\"Results\", index=False)\n",
    "    raw_workmode.to_excel(writer, sheet_name=\"Workforce\", index=False)\n",
    "    raw_demand.to_excel(writer, sheet_name=\"Demand\", index=False)"
   ]
  },
  {
   "cell_type": "code",
   "execution_count": null,
   "metadata": {},
   "outputs": [],
   "source": [
    "df_results_sepa"
   ]
  }
 ],
 "metadata": {
  "kernelspec": {
   "display_name": "Python 3",
   "language": "python",
   "name": "python3"
  },
  "language_info": {
   "codemirror_mode": {
    "name": "ipython",
    "version": 3
   },
   "file_extension": ".py",
   "mimetype": "text/x-python",
   "name": "python",
   "nbconvert_exporter": "python",
   "pygments_lexer": "ipython3",
   "version": "3.10.15"
  }
 },
 "nbformat": 4,
 "nbformat_minor": 2
}
