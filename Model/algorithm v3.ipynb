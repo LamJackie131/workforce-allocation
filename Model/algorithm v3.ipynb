{
 "cells": [
  {
   "cell_type": "code",
   "execution_count": 1,
   "metadata": {},
   "outputs": [],
   "source": [
    "import pandas as pd\n",
    "import numpy as np\n",
    "import pulp\n",
    "import os\n",
    "os.getcwd()\n",
    "os.chdir(\"..\")"
   ]
  },
  {
   "cell_type": "markdown",
   "metadata": {},
   "source": [
    "# Process data"
   ]
  },
  {
   "cell_type": "code",
   "execution_count": 2,
   "metadata": {},
   "outputs": [],
   "source": [
    "raw_workmode = pd.read_excel('InputData.xlsx', sheet_name=\"Mode\")\n",
    "raw_demand = pd.read_excel('InputData.xlsx', sheet_name=\"DemandV2\") # ver2\n",
    "workmode = {(row['Mode'].item(), row['Shift'].item()): row['Capa'].item() for _, row in raw_workmode.iterrows()}\n",
    "demand = {row['Week'].item(): row['Demand'].item() for _, row in raw_demand.iterrows()} # ver2"
   ]
  },
  {
   "cell_type": "code",
   "execution_count": 3,
   "metadata": {},
   "outputs": [],
   "source": [
    "WeekIndex = raw_demand.Week.tolist()\n",
    "ShiftIndex = [1,2,3]\n",
    "bigM = 99999"
   ]
  },
  {
   "cell_type": "code",
   "execution_count": 4,
   "metadata": {},
   "outputs": [],
   "source": [
    "numS = 17\n",
    "numC = 12\n",
    "FC = {\n",
    "    (i, j): raw_workmode.loc[(raw_workmode['Mode'] == i) & (raw_workmode['Shift'] == j), 'Hours'].item() * (\n",
    "        8.3 * 1.5 * numC if (j in [2, 3] and i == 1) else\n",
    "        8.3 * 1.5 * numS if (j in [2, 3] and i == 2) else\n",
    "        8.3 * numC if (j in [1] and i == 1) else\n",
    "        8.3 * numS if (j in [1] and i == 2) else\n",
    "        0)\n",
    "    for i in [1, 2]\n",
    "    for j in ShiftIndex\n",
    "    if not raw_workmode.loc[(raw_workmode['Mode'] == i) & (raw_workmode['Shift'] == j), 'Hours'].empty}\n",
    "\n",
    "FC_sunday = {\n",
    "    (i, j): raw_workmode.loc[(raw_workmode['Mode'] == i) & (raw_workmode['Shift'] == j), 'Hours'].item() * (\n",
    "        8.3 * 2 * numC if (i == 1) else\n",
    "        8.3 * 2 * numS if (i == 2) else\n",
    "        0)\n",
    "    for i in [1, 2]\n",
    "    for j in ShiftIndex\n",
    "    if not raw_workmode.loc[(raw_workmode['Mode'] == i) & (raw_workmode['Shift'] == j), 'Hours'].empty}"
   ]
  },
  {
   "cell_type": "markdown",
   "metadata": {},
   "source": [
    "# Algorithm"
   ]
  },
  {
   "cell_type": "code",
   "execution_count": 5,
   "metadata": {},
   "outputs": [
    {
     "name": "stdout",
     "output_type": "stream",
     "text": [
      "Welcome to the CBC MILP Solver \n",
      "Version: 2.10.3 \n",
      "Build Date: Dec 15 2019 \n",
      "\n",
      "command line - /usr/local/python/3.12.1/lib/python3.12/site-packages/pulp/solverdir/cbc/linux/64/cbc /tmp/edfbe7d80fc6482c80a69444f11318b9-pulp.mps -ratio 1e-05 -timeMode elapsed -branch -printingOptions all -solution /tmp/edfbe7d80fc6482c80a69444f11318b9-pulp.sol (default strategy 1)\n",
      "At line 2 NAME          MODEL\n",
      "At line 3 ROWS\n",
      "At line 165 COLUMNS\n",
      "At line 1046 RHS\n",
      "At line 1207 BOUNDS\n",
      "At line 1312 ENDATA\n",
      "Problem MODEL has 160 rows, 104 columns and 576 elements\n",
      "Coin0008I MODEL read with 0 errors\n",
      "ratioGap was changed from 0 to 1e-05\n",
      "Option for timeMode changed from cpu to elapsed\n",
      "Continuous objective value is 46313.9 - 0.00 seconds\n",
      "Cgl0003I 0 fixed, 0 tightened bounds, 40 strengthened rows, 0 substitutions\n",
      "Cgl0003I 0 fixed, 0 tightened bounds, 48 strengthened rows, 0 substitutions\n",
      "Cgl0003I 0 fixed, 0 tightened bounds, 48 strengthened rows, 0 substitutions\n",
      "Cgl0003I 0 fixed, 0 tightened bounds, 48 strengthened rows, 0 substitutions\n",
      "Cgl0003I 0 fixed, 0 tightened bounds, 16 strengthened rows, 0 substitutions\n",
      "Cgl0003I 0 fixed, 0 tightened bounds, 8 strengthened rows, 0 substitutions\n",
      "Cgl0003I 0 fixed, 0 tightened bounds, 8 strengthened rows, 0 substitutions\n",
      "Cgl0003I 0 fixed, 0 tightened bounds, 8 strengthened rows, 0 substitutions\n",
      "Cgl0003I 0 fixed, 0 tightened bounds, 8 strengthened rows, 0 substitutions\n",
      "Cgl0004I processed model has 111 rows, 104 columns (104 integer (56 of which binary)) and 474 elements\n",
      "Cutoff increment increased from 1e-05 to 8.2999\n",
      "Cbc0038I Initial state - 18 integers unsatisfied sum - 3.30081\n",
      "Cbc0038I Pass   1: suminf.    2.82130 (13) obj. 48373.7 iterations 6\n",
      "Cbc0038I Solution found of 48373.7\n",
      "Cbc0038I Branch and bound needed to clear up 13 general integers\n",
      "Cbc0038I Full problem 111 rows 104 columns, reduced to 24 rows 48 columns\n",
      "Cbc0038I Cleaned solution of 51128\n",
      "Cbc0038I Before mini branch and bound, 85 integers at bound fixed and 0 continuous of which 1 were internal integer and 0 internal continuous\n",
      "Cbc0038I Full problem 111 rows 104 columns, reduced to 18 rows 16 columns\n",
      "Cbc0038I Mini branch and bound improved solution from 51128 to 50945.4 (0.03 seconds)\n",
      "Cbc0038I Round again with cutoff of 50474.8\n",
      "Cbc0038I Pass   2: suminf.    2.82130 (13) obj. 48373.7 iterations 0\n",
      "Cbc0038I Solution found of 48373.7\n",
      "Cbc0038I Branch and bound needed to clear up 13 general integers\n",
      "Cbc0038I Full problem 112 rows 104 columns, reduced to 25 rows 48 columns\n",
      "Cbc0038I Mini branch and bound could not fix general integers\n",
      "Cbc0038I No solution found this major pass\n",
      "Cbc0038I Before mini branch and bound, 85 integers at bound fixed and 0 continuous of which 1 were internal integer and 0 internal continuous\n",
      "Cbc0038I Full problem 111 rows 104 columns, reduced to 18 rows 16 columns\n",
      "Cbc0038I Mini branch and bound did not improve solution (0.05 seconds)\n",
      "Cbc0038I After 0.05 seconds - Feasibility pump exiting with objective of 50945.4 - took 0.04 seconds\n",
      "Cbc0012I Integer solution of 50945.4 found by feasibility pump after 0 iterations and 0 nodes (0.05 seconds)\n",
      "Cbc0038I Full problem 111 rows 104 columns, reduced to 18 rows 16 columns\n",
      "Cbc0012I Integer solution of 50762.8 found by DiveCoefficient after 72 iterations and 0 nodes (0.06 seconds)\n",
      "Cbc0031I 13 added rows had average density of 7.1538462\n",
      "Cbc0013I At root node, 13 cuts changed objective from 46313.897 to 50762.792 in 12 passes\n",
      "Cbc0014I Cut generator 0 (Probing) - 11 row cuts average 6.5 elements, 25 column cuts (25 active)  in 0.001 seconds - new frequency is 1\n",
      "Cbc0014I Cut generator 1 (Gomory) - 51 row cuts average 9.7 elements, 0 column cuts (0 active)  in 0.001 seconds - new frequency is 1\n",
      "Cbc0014I Cut generator 2 (Knapsack) - 0 row cuts average 0.0 elements, 0 column cuts (0 active)  in 0.001 seconds - new frequency is -100\n",
      "Cbc0014I Cut generator 3 (Clique) - 0 row cuts average 0.0 elements, 0 column cuts (0 active)  in 0.000 seconds - new frequency is -100\n",
      "Cbc0014I Cut generator 4 (MixedIntegerRounding2) - 16 row cuts average 7.2 elements, 0 column cuts (0 active)  in 0.001 seconds - new frequency is 1\n",
      "Cbc0014I Cut generator 5 (FlowCover) - 0 row cuts average 0.0 elements, 0 column cuts (0 active)  in 0.000 seconds - new frequency is -100\n",
      "Cbc0014I Cut generator 6 (TwoMirCuts) - 58 row cuts average 8.9 elements, 0 column cuts (0 active)  in 0.001 seconds - new frequency is 1\n",
      "Cbc0014I Cut generator 7 (ZeroHalf) - 2 row cuts average 7.0 elements, 0 column cuts (0 active)  in 0.001 seconds - new frequency is -100\n",
      "Cbc0001I Search completed - best objective 50762.8, took 72 iterations and 0 nodes (0.06 seconds)\n",
      "Cbc0035I Maximum depth 0, 51 variables fixed on reduced cost\n",
      "Cuts at root node changed objective from 46313.9 to 50762.8\n",
      "Probing was tried 12 times and created 36 cuts of which 0 were active after adding rounds of cuts (0.001 seconds)\n",
      "Gomory was tried 12 times and created 51 cuts of which 0 were active after adding rounds of cuts (0.001 seconds)\n",
      "Knapsack was tried 12 times and created 0 cuts of which 0 were active after adding rounds of cuts (0.001 seconds)\n",
      "Clique was tried 12 times and created 0 cuts of which 0 were active after adding rounds of cuts (0.000 seconds)\n",
      "MixedIntegerRounding2 was tried 12 times and created 16 cuts of which 0 were active after adding rounds of cuts (0.001 seconds)\n",
      "FlowCover was tried 12 times and created 0 cuts of which 0 were active after adding rounds of cuts (0.000 seconds)\n",
      "TwoMirCuts was tried 12 times and created 58 cuts of which 0 were active after adding rounds of cuts (0.001 seconds)\n",
      "ZeroHalf was tried 12 times and created 2 cuts of which 0 were active after adding rounds of cuts (0.001 seconds)\n",
      "\n",
      "Result - Optimal solution found\n",
      "\n",
      "Objective value:                50762.80000000\n",
      "Enumerated nodes:               0\n",
      "Total iterations:               72\n",
      "Time (CPU seconds):             0.05\n",
      "Time (Wallclock seconds):       0.06\n",
      "\n",
      "Option for printingOptions changed from normal to all\n",
      "Total time (CPU seconds):       0.05   (Wallclock seconds):       0.06\n",
      "\n"
     ]
    }
   ],
   "source": [
    "# Create the model\n",
    "model = pulp.LpProblem(\"3PL_Workforce_Allocation\", pulp.LpMinimize)\n",
    "\n",
    "# Define binary decision variables x (3D) and y (2D)\n",
    "m_conso = pulp.LpVariable.dicts(\"m_conso\", (ShiftIndex, WeekIndex), lowBound=0, cat='Integer')\n",
    "m_sepa = pulp.LpVariable.dicts(\"m_sepa\", (ShiftIndex, WeekIndex), lowBound=0, cat='Integer')\n",
    "# total_shifts = pulp.LpVariable.dicts(\"total_shifts\", WeekIndex, cat='Integer')\n",
    "x = pulp.LpVariable.dicts(\"x\", WeekIndex, cat='Binary')\n",
    "delta_conso = pulp.LpVariable.dicts(\"delta_conso\", (ShiftIndex, WeekIndex), lowBound=0, upBound=1, cat='Integer')\n",
    "delta_sepa = pulp.LpVariable.dicts(\"delta_sepa\", (ShiftIndex, WeekIndex), lowBound=0, upBound=1, cat='Integer')\n",
    "\n",
    "# Objective function: \n",
    "model += pulp.lpSum(FC[1, sh] * m_conso[sh][w] + FC_sunday[1, sh]*delta_conso[sh][w] for sh in ShiftIndex for w in WeekIndex) + \\\n",
    "         pulp.lpSum(FC[2, sh] * m_sepa[sh][w] + FC_sunday[2, sh]*delta_sepa[sh][w] for sh in ShiftIndex for w in WeekIndex)\n",
    "\n",
    "# Constraint\n",
    "\n",
    "# Can't work more than 3 shifts 3 per week\n",
    "for w in WeekIndex:\n",
    "    model += m_conso[3][w] + m_sepa[3][w] <= 3\n",
    "\n",
    "# Satisfy demand ver 2\n",
    "for w in WeekIndex:\n",
    "    model += pulp.lpSum(workmode[1, sh]*m_conso[sh][w] for sh in ShiftIndex) + pulp.lpSum(workmode[2, sh]*m_sepa[sh][w] for sh in ShiftIndex) >= demand[w]\n",
    "\n",
    "# Min 5 days a week\n",
    "for w in WeekIndex:\n",
    "    model += pulp.lpSum(m_conso[sh][w] for sh in ShiftIndex) + pulp.lpSum(m_sepa[sh][w] for sh in ShiftIndex) >= 5\n",
    "\n",
    "# Max 7 days a week\n",
    "for w in WeekIndex:\n",
    "    model += pulp.lpSum(m_conso[sh][w] for sh in ShiftIndex) + pulp.lpSum(m_sepa[sh][w] for sh in ShiftIndex) <= 7\n",
    "\n",
    "# If sum = 7, then apply 2 times wages\n",
    "## If the total of m_conso and m_sepa is 7, activate x[w]\n",
    "for w in WeekIndex:\n",
    "    total_shifts = pulp.lpSum(m_conso[sh][w] + m_sepa[sh][w] for sh in ShiftIndex)\n",
    "    model += total_shifts - 7 <= bigM * (1 - x[w])\n",
    "    model += total_shifts - 7 >= -bigM * (1 - x[w])\n",
    "\n",
    "    model += total_shifts <= 6 + bigM * x[w]\n",
    "\n",
    "## If x[w] is 1, then either delta_conso or delta_sepa must increase by exactly 1\n",
    "for w in WeekIndex:\n",
    "    model += pulp.lpSum(delta_conso[sh][w] for sh in ShiftIndex) + pulp.lpSum(delta_sepa[sh][w] for sh in ShiftIndex) == x[w]\n",
    "\n",
    "## Only add to available mode\n",
    "for w in WeekIndex:\n",
    "    for sh in ShiftIndex:\n",
    "        model += m_conso[sh][w] >= delta_conso[sh][w] \n",
    "for w in WeekIndex:\n",
    "    for sh in ShiftIndex:\n",
    "        model += m_sepa[sh][w] >= delta_sepa[sh][w]\n",
    "\n",
    "# If z[w] is 0, then delta_conso and delta_sepa must both be 0 for all shifts\n",
    "for w in WeekIndex:\n",
    "    for sh in ShiftIndex:\n",
    "        model += delta_conso[sh][w] <= x[w]\n",
    "        model += delta_sepa[sh][w] <= x[w]\n",
    "\n",
    "# Solve the problem using COIN_CMD without the tol argument\n",
    "solver = pulp.PULP_CBC_CMD(gapRel=0.00001)  # Built-in solver\n",
    "model.solve(solver)\n",
    "\n",
    "# Collect the results into a list of dictionaries for x_ijk (3D)\n",
    "results_conso = []\n",
    "for sh in ShiftIndex:\n",
    "    for w in WeekIndex:\n",
    "        results_conso.append({\n",
    "            'shift': sh,\n",
    "            'week': w,\n",
    "            'choose': m_conso[sh][w].varValue\n",
    "        })\n",
    "\n",
    "res_delta_conso = []\n",
    "for sh in ShiftIndex:\n",
    "    for w in WeekIndex:\n",
    "        res_delta_conso.append({\n",
    "                'shift': sh,\n",
    "                'week': w,\n",
    "                'choose': delta_conso[sh][w].varValue\n",
    "            })\n",
    "\n",
    "# Collect the results into a list of dictionaries for y_ij (2D)\n",
    "results_sepa = []\n",
    "for sh in ShiftIndex:\n",
    "    for w in WeekIndex:\n",
    "        results_sepa.append({\n",
    "            'shift': sh,\n",
    "            'week': w,\n",
    "            'choose': m_sepa[sh][w].varValue\n",
    "        })\n",
    "\n",
    "res_delta_sepa = []\n",
    "for sh in ShiftIndex:\n",
    "    for w in WeekIndex:\n",
    "        res_delta_sepa.append({\n",
    "                'shift': sh,\n",
    "                'week': w,\n",
    "                'choose': delta_sepa[sh][w].varValue\n",
    "            })"
   ]
  },
  {
   "cell_type": "code",
   "execution_count": null,
   "metadata": {},
   "outputs": [],
   "source": [
    "for w in WeekIndex:\n",
    "    total_shifts_value = sum(m_conso[sh][w].varValue + m_sepa[sh][w].varValue for sh in ShiftIndex)\n",
    "    print(f\"Total shifts for week {w}: {total_shifts_value}\")"
   ]
  },
  {
   "cell_type": "code",
   "execution_count": null,
   "metadata": {},
   "outputs": [],
   "source": [
    "# Calculate and print total shifts for each week 46313.9 \n",
    "for w in WeekIndex:\n",
    "    total_shifts_value = sum(m_sepa[sh][w].varValue + delta_sepa[sh][w].varValue for sh in ShiftIndex)\n",
    "    print(f\"Total shifts for week {w}: {total_shifts_value}\")"
   ]
  },
  {
   "cell_type": "code",
   "execution_count": null,
   "metadata": {},
   "outputs": [],
   "source": [
    "for w in WeekIndex:\n",
    "    print(f\"Total shifts for week {w}: {x[w].varValue}\")"
   ]
  },
  {
   "cell_type": "code",
   "execution_count": null,
   "metadata": {},
   "outputs": [],
   "source": [
    "res_delta_sepa"
   ]
  },
  {
   "cell_type": "code",
   "execution_count": null,
   "metadata": {},
   "outputs": [],
   "source": [
    "res_delta_conso"
   ]
  },
  {
   "cell_type": "code",
   "execution_count": null,
   "metadata": {},
   "outputs": [],
   "source": [
    "df_results_conso=pd.DataFrame(results_conso)\n",
    "df_results_conso['mode'] = \"c\"\n",
    "df_results_sepa = pd.DataFrame(results_sepa)\n",
    "df_results_sepa['mode'] = \"s\"\n",
    "result = pd.concat([df_results_sepa, df_results_conso])\n",
    "result_pivot=pd.DataFrame(result.pivot_table(index=[\"mode\", \"shift\"], columns=[\"week\"], values=[\"choose\"], aggfunc=\"sum\").reset_index(drop=False))\n",
    "result_pivot"
   ]
  },
  {
   "cell_type": "code",
   "execution_count": null,
   "metadata": {},
   "outputs": [],
   "source": [
    "workmode"
   ]
  },
  {
   "cell_type": "code",
   "execution_count": null,
   "metadata": {},
   "outputs": [],
   "source": [
    "raw_demand"
   ]
  },
  {
   "cell_type": "code",
   "execution_count": 9,
   "metadata": {},
   "outputs": [],
   "source": [
    "with pd.ExcelWriter(\"result_v2.xlsx\") as writer:\n",
    "   \n",
    "    # use to_excel function and specify the sheet_name and index \n",
    "    # to store the dataframe in specified sheet\n",
    "    result_pivot.to_excel(writer, sheet_name=\"Pivot\")\n",
    "    result.to_excel(writer, sheet_name=\"Results\", index=False)\n",
    "    raw_workmode.to_excel(writer, sheet_name=\"Workforce\", index=False)\n",
    "    raw_demand.to_excel(writer, sheet_name=\"Demand\", index=False)"
   ]
  },
  {
   "cell_type": "code",
   "execution_count": null,
   "metadata": {},
   "outputs": [],
   "source": [
    "df_results_sepa"
   ]
  }
 ],
 "metadata": {
  "kernelspec": {
   "display_name": "Python 3",
   "language": "python",
   "name": "python3"
  },
  "language_info": {
   "codemirror_mode": {
    "name": "ipython",
    "version": 3
   },
   "file_extension": ".py",
   "mimetype": "text/x-python",
   "name": "python",
   "nbconvert_exporter": "python",
   "pygments_lexer": "ipython3",
   "version": "3.12.1"
  }
 },
 "nbformat": 4,
 "nbformat_minor": 2
}
